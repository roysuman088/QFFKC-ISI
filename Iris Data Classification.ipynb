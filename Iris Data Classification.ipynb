{
  "nbformat": 4,
  "nbformat_minor": 0,
  "metadata": {
    "colab": {
      "provenance": []
    },
    "kernelspec": {
      "name": "python3",
      "display_name": "Python 3"
    },
    "language_info": {
      "name": "python"
    }
  },
  "cells": [
    {
      "cell_type": "markdown",
      "source": [
        "## Installing Qiskit Libraries"
      ],
      "metadata": {
        "id": "Rcp0Q0Oi0gDF"
      }
    },
    {
      "cell_type": "code",
      "source": [
        "!pip install qiskit\n",
        "!pip install qiskit-machine-learning"
      ],
      "metadata": {
        "colab": {
          "base_uri": "https://localhost:8080/"
        },
        "id": "zGypPC7AupRs",
        "outputId": "8a797e6d-8445-4096-80a1-b30674f005cb"
      },
      "execution_count": null,
      "outputs": [
        {
          "output_type": "stream",
          "name": "stdout",
          "text": [
            "Looking in indexes: https://pypi.org/simple, https://us-python.pkg.dev/colab-wheels/public/simple/\n",
            "Collecting qiskit\n",
            "  Downloading qiskit-0.39.0.tar.gz (13 kB)\n",
            "Collecting qiskit-terra==0.22.0\n",
            "  Downloading qiskit_terra-0.22.0-cp37-cp37m-manylinux_2_17_x86_64.manylinux2014_x86_64.whl (4.7 MB)\n",
            "\u001b[K     |████████████████████████████████| 4.7 MB 4.1 MB/s \n",
            "\u001b[?25hCollecting qiskit-aer==0.11.0\n",
            "  Downloading qiskit_aer-0.11.0-cp37-cp37m-manylinux_2_17_x86_64.manylinux2014_x86_64.whl (19.2 MB)\n",
            "\u001b[K     |████████████████████████████████| 19.2 MB 231 kB/s \n",
            "\u001b[?25hCollecting qiskit-ibmq-provider==0.19.2\n",
            "  Downloading qiskit_ibmq_provider-0.19.2-py3-none-any.whl (240 kB)\n",
            "\u001b[K     |████████████████████████████████| 240 kB 54.9 MB/s \n",
            "\u001b[?25hRequirement already satisfied: scipy>=1.0 in /usr/local/lib/python3.7/dist-packages (from qiskit-aer==0.11.0->qiskit) (1.7.3)\n",
            "Requirement already satisfied: numpy>=1.16.3 in /usr/local/lib/python3.7/dist-packages (from qiskit-aer==0.11.0->qiskit) (1.21.6)\n",
            "Collecting requests-ntlm>=1.1.0\n",
            "  Downloading requests_ntlm-1.1.0-py2.py3-none-any.whl (5.7 kB)\n",
            "Requirement already satisfied: requests>=2.19 in /usr/local/lib/python3.7/dist-packages (from qiskit-ibmq-provider==0.19.2->qiskit) (2.23.0)\n",
            "Requirement already satisfied: python-dateutil>=2.8.0 in /usr/local/lib/python3.7/dist-packages (from qiskit-ibmq-provider==0.19.2->qiskit) (2.8.2)\n",
            "Requirement already satisfied: urllib3>=1.21.1 in /usr/local/lib/python3.7/dist-packages (from qiskit-ibmq-provider==0.19.2->qiskit) (1.24.3)\n",
            "Collecting websockets>=10.0\n",
            "  Downloading websockets-10.4-cp37-cp37m-manylinux_2_5_x86_64.manylinux1_x86_64.manylinux_2_17_x86_64.manylinux2014_x86_64.whl (106 kB)\n",
            "\u001b[K     |████████████████████████████████| 106 kB 49.3 MB/s \n",
            "\u001b[?25hCollecting websocket-client>=1.0.1\n",
            "  Downloading websocket_client-1.4.1-py3-none-any.whl (55 kB)\n",
            "\u001b[K     |████████████████████████████████| 55 kB 3.0 MB/s \n",
            "\u001b[?25hCollecting ply>=3.10\n",
            "  Downloading ply-3.11-py2.py3-none-any.whl (49 kB)\n",
            "\u001b[K     |████████████████████████████████| 49 kB 5.7 MB/s \n",
            "\u001b[?25hRequirement already satisfied: psutil>=5 in /usr/local/lib/python3.7/dist-packages (from qiskit-terra==0.22.0->qiskit) (5.4.8)\n",
            "Requirement already satisfied: dill>=0.3 in /usr/local/lib/python3.7/dist-packages (from qiskit-terra==0.22.0->qiskit) (0.3.5.1)\n",
            "Collecting stevedore>=3.0.0\n",
            "  Downloading stevedore-3.5.2-py3-none-any.whl (50 kB)\n",
            "\u001b[K     |████████████████████████████████| 50 kB 5.9 MB/s \n",
            "\u001b[?25hCollecting retworkx>=0.11.0\n",
            "  Downloading retworkx-0.12.0-py3-none-any.whl (10 kB)\n",
            "Requirement already satisfied: sympy>=1.3 in /usr/local/lib/python3.7/dist-packages (from qiskit-terra==0.22.0->qiskit) (1.7.1)\n",
            "Requirement already satisfied: typing-extensions in /usr/local/lib/python3.7/dist-packages (from qiskit-terra==0.22.0->qiskit) (4.1.1)\n",
            "Requirement already satisfied: importlib-metadata<5.0 in /usr/local/lib/python3.7/dist-packages (from qiskit-terra==0.22.0->qiskit) (4.13.0)\n",
            "Collecting tweedledum<2.0,>=1.1\n",
            "  Downloading tweedledum-1.1.1-cp37-cp37m-manylinux_2_12_x86_64.manylinux2010_x86_64.whl (943 kB)\n",
            "\u001b[K     |████████████████████████████████| 943 kB 42.1 MB/s \n",
            "\u001b[?25hCollecting shared-memory38\n",
            "  Downloading shared_memory38-0.1.2-cp37-cp37m-manylinux_2_5_x86_64.manylinux1_x86_64.whl (25 kB)\n",
            "Collecting symengine>=0.9\n",
            "  Downloading symengine-0.9.2-cp37-cp37m-manylinux2010_x86_64.whl (37.5 MB)\n",
            "\u001b[K     |████████████████████████████████| 37.5 MB 1.3 MB/s \n",
            "\u001b[?25hRequirement already satisfied: zipp>=0.5 in /usr/local/lib/python3.7/dist-packages (from importlib-metadata<5.0->qiskit-terra==0.22.0->qiskit) (3.9.0)\n",
            "Requirement already satisfied: six>=1.5 in /usr/local/lib/python3.7/dist-packages (from python-dateutil>=2.8.0->qiskit-ibmq-provider==0.19.2->qiskit) (1.15.0)\n",
            "Requirement already satisfied: certifi>=2017.4.17 in /usr/local/lib/python3.7/dist-packages (from requests>=2.19->qiskit-ibmq-provider==0.19.2->qiskit) (2022.9.24)\n",
            "Requirement already satisfied: chardet<4,>=3.0.2 in /usr/local/lib/python3.7/dist-packages (from requests>=2.19->qiskit-ibmq-provider==0.19.2->qiskit) (3.0.4)\n",
            "Requirement already satisfied: idna<3,>=2.5 in /usr/local/lib/python3.7/dist-packages (from requests>=2.19->qiskit-ibmq-provider==0.19.2->qiskit) (2.10)\n",
            "Collecting cryptography>=1.3\n",
            "  Downloading cryptography-38.0.1-cp36-abi3-manylinux_2_24_x86_64.whl (4.0 MB)\n",
            "\u001b[K     |████████████████████████████████| 4.0 MB 40.6 MB/s \n",
            "\u001b[?25hCollecting ntlm-auth>=1.0.2\n",
            "  Downloading ntlm_auth-1.5.0-py2.py3-none-any.whl (29 kB)\n",
            "Requirement already satisfied: cffi>=1.12 in /usr/local/lib/python3.7/dist-packages (from cryptography>=1.3->requests-ntlm>=1.1.0->qiskit-ibmq-provider==0.19.2->qiskit) (1.15.1)\n",
            "Requirement already satisfied: pycparser in /usr/local/lib/python3.7/dist-packages (from cffi>=1.12->cryptography>=1.3->requests-ntlm>=1.1.0->qiskit-ibmq-provider==0.19.2->qiskit) (2.21)\n",
            "Collecting rustworkx==0.12.0\n",
            "  Downloading rustworkx-0.12.0-cp37-cp37m-manylinux_2_17_x86_64.manylinux2014_x86_64.whl (1.9 MB)\n",
            "\u001b[K     |████████████████████████████████| 1.9 MB 26.2 MB/s \n",
            "\u001b[?25hCollecting pbr!=2.1.0,>=2.0.0\n",
            "  Downloading pbr-5.11.0-py2.py3-none-any.whl (112 kB)\n",
            "\u001b[K     |████████████████████████████████| 112 kB 49.9 MB/s \n",
            "\u001b[?25hRequirement already satisfied: mpmath>=0.19 in /usr/local/lib/python3.7/dist-packages (from sympy>=1.3->qiskit-terra==0.22.0->qiskit) (1.2.1)\n",
            "Building wheels for collected packages: qiskit\n",
            "  Building wheel for qiskit (setup.py) ... \u001b[?25l\u001b[?25hdone\n",
            "  Created wheel for qiskit: filename=qiskit-0.39.0-py3-none-any.whl size=12188 sha256=d971868a9d08d3bb9c8c82b4054bc69aaf4dabde3045c9508630dbe096ea389a\n",
            "  Stored in directory: /root/.cache/pip/wheels/63/d0/9a/257143dfc211b1732e1dadf41f281d477251d9cc0108a6f209\n",
            "Successfully built qiskit\n",
            "Installing collected packages: rustworkx, pbr, tweedledum, symengine, stevedore, shared-memory38, retworkx, ply, ntlm-auth, cryptography, websockets, websocket-client, requests-ntlm, qiskit-terra, qiskit-ibmq-provider, qiskit-aer, qiskit\n",
            "Successfully installed cryptography-38.0.1 ntlm-auth-1.5.0 pbr-5.11.0 ply-3.11 qiskit-0.39.0 qiskit-aer-0.11.0 qiskit-ibmq-provider-0.19.2 qiskit-terra-0.22.0 requests-ntlm-1.1.0 retworkx-0.12.0 rustworkx-0.12.0 shared-memory38-0.1.2 stevedore-3.5.2 symengine-0.9.2 tweedledum-1.1.1 websocket-client-1.4.1 websockets-10.4\n",
            "Looking in indexes: https://pypi.org/simple, https://us-python.pkg.dev/colab-wheels/public/simple/\n",
            "Collecting qiskit-machine-learning\n",
            "  Downloading qiskit_machine_learning-0.4.0-py3-none-any.whl (126 kB)\n",
            "\u001b[K     |████████████████████████████████| 126 kB 4.2 MB/s \n",
            "\u001b[?25hRequirement already satisfied: fastdtw in /usr/local/lib/python3.7/dist-packages (from qiskit-machine-learning) (0.3.4)\n",
            "Requirement already satisfied: psutil>=5 in /usr/local/lib/python3.7/dist-packages (from qiskit-machine-learning) (5.4.8)\n",
            "Requirement already satisfied: scipy>=1.4 in /usr/local/lib/python3.7/dist-packages (from qiskit-machine-learning) (1.7.3)\n",
            "Requirement already satisfied: setuptools>=40.1.0 in /usr/local/lib/python3.7/dist-packages (from qiskit-machine-learning) (57.4.0)\n",
            "Requirement already satisfied: qiskit-terra>=0.20.0 in /usr/local/lib/python3.7/dist-packages (from qiskit-machine-learning) (0.22.0)\n",
            "Requirement already satisfied: numpy>=1.17 in /usr/local/lib/python3.7/dist-packages (from qiskit-machine-learning) (1.21.6)\n",
            "Requirement already satisfied: dill>=0.3.4 in /usr/local/lib/python3.7/dist-packages (from qiskit-machine-learning) (0.3.5.1)\n",
            "Requirement already satisfied: scikit-learn>=0.20.0 in /usr/local/lib/python3.7/dist-packages (from qiskit-machine-learning) (1.0.2)\n",
            "Requirement already satisfied: symengine>=0.9 in /usr/local/lib/python3.7/dist-packages (from qiskit-terra>=0.20.0->qiskit-machine-learning) (0.9.2)\n",
            "Requirement already satisfied: ply>=3.10 in /usr/local/lib/python3.7/dist-packages (from qiskit-terra>=0.20.0->qiskit-machine-learning) (3.11)\n",
            "Requirement already satisfied: retworkx>=0.11.0 in /usr/local/lib/python3.7/dist-packages (from qiskit-terra>=0.20.0->qiskit-machine-learning) (0.12.0)\n",
            "Requirement already satisfied: typing-extensions in /usr/local/lib/python3.7/dist-packages (from qiskit-terra>=0.20.0->qiskit-machine-learning) (4.1.1)\n",
            "Requirement already satisfied: tweedledum<2.0,>=1.1 in /usr/local/lib/python3.7/dist-packages (from qiskit-terra>=0.20.0->qiskit-machine-learning) (1.1.1)\n",
            "Requirement already satisfied: importlib-metadata<5.0 in /usr/local/lib/python3.7/dist-packages (from qiskit-terra>=0.20.0->qiskit-machine-learning) (4.13.0)\n",
            "Requirement already satisfied: stevedore>=3.0.0 in /usr/local/lib/python3.7/dist-packages (from qiskit-terra>=0.20.0->qiskit-machine-learning) (3.5.2)\n",
            "Requirement already satisfied: sympy>=1.3 in /usr/local/lib/python3.7/dist-packages (from qiskit-terra>=0.20.0->qiskit-machine-learning) (1.7.1)\n",
            "Requirement already satisfied: python-dateutil>=2.8.0 in /usr/local/lib/python3.7/dist-packages (from qiskit-terra>=0.20.0->qiskit-machine-learning) (2.8.2)\n",
            "Requirement already satisfied: shared-memory38 in /usr/local/lib/python3.7/dist-packages (from qiskit-terra>=0.20.0->qiskit-machine-learning) (0.1.2)\n",
            "Requirement already satisfied: zipp>=0.5 in /usr/local/lib/python3.7/dist-packages (from importlib-metadata<5.0->qiskit-terra>=0.20.0->qiskit-machine-learning) (3.9.0)\n",
            "Requirement already satisfied: six>=1.5 in /usr/local/lib/python3.7/dist-packages (from python-dateutil>=2.8.0->qiskit-terra>=0.20.0->qiskit-machine-learning) (1.15.0)\n",
            "Requirement already satisfied: rustworkx==0.12.0 in /usr/local/lib/python3.7/dist-packages (from retworkx>=0.11.0->qiskit-terra>=0.20.0->qiskit-machine-learning) (0.12.0)\n",
            "Requirement already satisfied: joblib>=0.11 in /usr/local/lib/python3.7/dist-packages (from scikit-learn>=0.20.0->qiskit-machine-learning) (1.2.0)\n",
            "Requirement already satisfied: threadpoolctl>=2.0.0 in /usr/local/lib/python3.7/dist-packages (from scikit-learn>=0.20.0->qiskit-machine-learning) (3.1.0)\n",
            "Requirement already satisfied: pbr!=2.1.0,>=2.0.0 in /usr/local/lib/python3.7/dist-packages (from stevedore>=3.0.0->qiskit-terra>=0.20.0->qiskit-machine-learning) (5.11.0)\n",
            "Requirement already satisfied: mpmath>=0.19 in /usr/local/lib/python3.7/dist-packages (from sympy>=1.3->qiskit-terra>=0.20.0->qiskit-machine-learning) (1.2.1)\n",
            "Installing collected packages: qiskit-machine-learning\n",
            "Successfully installed qiskit-machine-learning-0.4.0\n"
          ]
        }
      ]
    },
    {
      "cell_type": "markdown",
      "source": [
        "## Importng Libraries"
      ],
      "metadata": {
        "id": "NCSPOn640olr"
      }
    },
    {
      "cell_type": "code",
      "execution_count": null,
      "metadata": {
        "id": "9S4Ymzwhundt"
      },
      "outputs": [],
      "source": [
        "import matplotlib.pyplot as plt\n",
        "import numpy as np\n",
        "\n",
        "from sklearn import datasets\n",
        "from sklearn.model_selection import train_test_split\n",
        "from sklearn.svm import SVC\n",
        "\n",
        "import qiskit\n",
        "from qiskit.providers.aer.noise import NoiseModel,QuantumError,amplitude_damping_error,depolarizing_error, coherent_unitary_error,pauli_error\n",
        "from qiskit import BasicAer\n",
        "from qiskit.circuit.library import ZZFeatureMap, PauliFeatureMap, ZFeatureMap\n",
        "from qiskit.utils import QuantumInstance\n",
        "from qiskit_machine_learning.kernels import QuantumKernel\n",
        "# from qiskit.utils.mitigation import complete_meas_cal, CompleteMeasFitter,TensoredMeasFitter"
      ]
    },
    {
      "cell_type": "markdown",
      "source": [
        "## Data Load and Visualization\n",
        "\n",
        "> Load the Dataset\n",
        "\n",
        "\n",
        "> Split the dataset in Train and Test data\n",
        "\n",
        "\n",
        "> Plot the Training data"
      ],
      "metadata": {
        "id": "v3R4XZ9THPYt"
      }
    },
    {
      "cell_type": "code",
      "source": [
        "#Load the Dataset\n",
        "data, target = datasets.load_iris(return_X_y=True)\n",
        "\n",
        "#Split the the as 80% Training data and 20% Testing data \n",
        "sample_train, sample_test, label_train, label_test = train_test_split(data, target, test_size=0.2, random_state=42)"
      ],
      "metadata": {
        "id": "ZmaaWEJ7vX4o"
      },
      "execution_count": null,
      "outputs": []
    },
    {
      "cell_type": "code",
      "source": [
        "#Plotting the train dataset with respect to Sepal length and sepal width and color all the points based on their labels\n",
        "plt.scatter(sample_train[:, 0], sample_train[:, 1], c=label_train)\n",
        "\n",
        "#Provide the plot title, x-axis name and y-axis name\n",
        "plt.title(\"Iris Dataset\")\n",
        "plt.xlabel(\"Sepal length\")\n",
        "plt.ylabel(\"Sepal width\")\n",
        "\n",
        "#Visualize the plot\n",
        "plt.show()"
      ],
      "metadata": {
        "colab": {
          "base_uri": "https://localhost:8080/",
          "height": 295
        },
        "id": "W0-I_q62JP73",
        "outputId": "3c293576-6121-4f87-d579-739606594821"
      },
      "execution_count": null,
      "outputs": [
        {
          "output_type": "display_data",
          "data": {
            "text/plain": [
              "<Figure size 432x288 with 1 Axes>"
            ],
            "image/png": "[encoded data removed]"
          },
          "metadata": {
            "needs_background": "light"
          }
        }
      ]
    },
    {
      "cell_type": "markdown",
      "source": [
        "# **Quantum Machine Learning**\n",
        "\n",
        "> Feature Map:\n",
        "\n",
        "> Entanglement:\n",
        "\n",
        "> Quantum Kernel:\n",
        "\n",
        "\n",
        "\n"
      ],
      "metadata": {
        "id": "hy8OWY7pIjED"
      }
    },
    {
      "cell_type": "markdown",
      "source": [
        "> For each Feature Map, Entanglement and Repititions we generate the Data Encoding followed by creating Quantum Kernel with QASM-Simulator for train SVC Model with the train dataset, calculate the accuracy on test dataset and store corresponding accuracy for analysis.\n",
        "\n",
        "> We visualize the accuracy of each model for analysis, and understand the impacts of number of repitations, entanglements in SVC Model further and conclude the best model for this train dataset."
      ],
      "metadata": {
        "id": "fmGCpNmgKS7o"
      }
    },
    {
      "cell_type": "code",
      "source": [
        "reps=[i for i in range(1,5)]\n",
        "feature_maps=[ZZFeatureMap, PauliFeatureMap]\n",
        "entanglements=[\"linear\", \"circular\", \"full\"]\n",
        "zz_set=[]\n",
        "pauli_set=[]\n",
        "z_set=[]\n",
        "for fm in feature_maps:\n",
        "    for entanglement in entanglements:\n",
        "        temp=[]\n",
        "        \n",
        "        for rep in reps:\n",
        "            feature_map = fm(feature_dimension=4, reps=rep, entanglement=entanglement)\n",
        "            backend = QuantumInstance(BasicAer.get_backend(\"qasm_simulator\"), shots=1024)\n",
        "\n",
        "            kernel = QuantumKernel(feature_map=feature_map, quantum_instance=backend)\n",
        "            svc = SVC(kernel=kernel.evaluate)\n",
        "            svc.fit(sample_train, label_train)\n",
        "            svc_score = svc.score(sample_test, label_test)\n",
        "            temp.append(svc_score)\n",
        "        \n",
        "        if fm==ZZFeatureMap:\n",
        "            zz_set.append(temp)\n",
        "        else:\n",
        "            pauli_set.append(temp)\n",
        "            \n",
        "for rep in reps:\n",
        "    feature_map = ZFeatureMap(feature_dimension=4, reps=rep)\n",
        "    backend = QuantumInstance(BasicAer.get_backend(\"qasm_simulator\"), shots=1024)\n",
        "\n",
        "    kernel = QuantumKernel(feature_map=feature_map, quantum_instance=backend)\n",
        "    svc = SVC(kernel=kernel.evaluate)\n",
        "    svc.fit(sample_train, label_train)\n",
        "    svc_score = svc.score(sample_test, label_test)\n",
        "    z_set.append(svc_score)\n",
        "\n"
      ],
      "metadata": {
        "id": "B-YQfSs3vcwN"
      },
      "execution_count": null,
      "outputs": []
    },
    {
      "cell_type": "markdown",
      "source": [
        "#### Plot each model performance with number of entanglements, feature maps and repitions for visualization and analysis"
      ],
      "metadata": {
        "id": "LsK3sM9VNSRh"
      }
    },
    {
      "cell_type": "code",
      "source": [
        "fig, axs = plt.subplots(1,3, figsize=(15, 6))\n",
        "fig.tight_layout(pad=3)\n",
        "\n",
        "axs[0].plot(reps, zz_set[0], label=\"linear\", marker=\"*\", markersize=10)\n",
        "axs[0].plot(reps, zz_set[1], label=\"circular\", marker=\"p\")\n",
        "axs[0].plot(reps, zz_set[2], label=\"full\", marker=\"o\")\n",
        "axs[0].axis(ymin=0.4, ymax=1.1)\n",
        "axs[0].legend(title = \"Entanglement\")\n",
        "axs[0].set(title=\"ZZFeatureMap\", xlabel=\"Repitations\", ylabel=\"SVC Accuracy Score\")\n",
        "\n",
        "axs[1].plot(reps, pauli_set[0], label=\"linear\" , marker=\"*\", markersize=10)\n",
        "axs[1].plot(reps, pauli_set[1], label=\"circular\" , marker=\"p\")\n",
        "axs[1].plot(reps, pauli_set[2], label=\"full\", marker=\"o\")\n",
        "axs[1].axis(ymin=0.4, ymax=1.1)\n",
        "axs[1].legend(title = \"Entanglement\")\n",
        "axs[1].set(title=\"PauliFeatureMap\", xlabel=\"Repitations\", ylabel=\"SVC Accuracy Score\")\n",
        "\n",
        "axs[2].plot(reps, z_set, marker=\"s\")\n",
        "axs[2].axis(ymin=0.4, ymax=1.1)\n",
        "axs[2].set(title=\"ZFeatureMap\", xlabel=\"Repitations\", ylabel=\"SVC Accuracy Score\")\n",
        "\n",
        "plt.show()"
      ],
      "metadata": {
        "colab": {
          "base_uri": "https://localhost:8080/",
          "height": 429
        },
        "id": "v92GuJ2vwtBa",
        "outputId": "25ff037a-f5fc-4c7c-cb2e-f7b017baec1a"
      },
      "execution_count": null,
      "outputs": [
        {
          "output_type": "display_data",
          "data": {
            "text/plain": [
              "<Figure size 1080x432 with 3 Axes>"
            ],
            "image/png": "[encoded data removed]"
          },
          "metadata": {
            "needs_background": "light"
          }
        }
      ]
    },
    {
      "cell_type": "markdown",
      "source": [
        "#### Conclusion: From this visualization, we can conclude that ZFeatureMap with repetition 1 has highest accuracy (1.0) from others, also we can see increasing number of repetitions can impact our dataset and model poorly. Also, ZFeatureMap performs better compare to PauliFeatureMap and ZZFEatureMap for our dataset and model.\n"
      ],
      "metadata": {
        "id": "-q0kE-GgNl4E"
      }
    },
    {
      "cell_type": "markdown",
      "source": [
        "# **Quantum Noise**"
      ],
      "metadata": {
        "id": "FW1DnVDgOdk-"
      }
    },
    {
      "cell_type": "markdown",
      "source": [
        "##DEPOLARIZING ERROR\n",
        "This is a type of incoherent error.In the below code we are varying the depolarizing probability of single qubit gate and plotting i against the accuracy of the quantum svm to test the accuracy in presence of noise model\n"
      ],
      "metadata": {
        "id": "c3Tiw1bfY9Ne"
      }
    },
    {
      "cell_type": "code",
      "source": [
        "# Error probabilities\n",
        "prob_2 = 0.01   # 2-qubit gate\n",
        "list_score=[]\n",
        "list_prob=[]\n",
        "for i in np.arange(0.0,1.0,0.1):\n",
        "    prob_1=i # 1-qubit gate\n",
        "    list_prob.append(prob_1)\n",
        "    #defining noise model (depolarising error)\n",
        "    depolarizing_noise_model = NoiseModel()\n",
        "    # Depolarizing quantum errors\n",
        "    error_1 = depolarizing_error(prob_1, 1)\n",
        "    error_2 = depolarizing_error(prob_2, 2)\n",
        "    # Add errors to noise model\n",
        "\n",
        "    depolarizing_noise_model.add_all_qubit_quantum_error(error_1, ['u1', 'u2', 'u3'])\n",
        "    depolarizing_noise_model.add_all_qubit_quantum_error(error_2, ['cx'])\n",
        "    # Get basis gates from noise model\n",
        "    basis_gates = depolarizing_noise_model.basis_gates\n",
        "    feature_map=ZFeatureMap(feature_dimension=4, reps=1)\n",
        "    backend = QuantumInstance(qiskit.Aer.get_backend(\"qasm_simulator\"), shots=1024,basis_gates=basis_gates, noise_model=depolarizing_noise_model)\n",
        "    #simulation of depolarising noise model\n",
        "    kernel = QuantumKernel(feature_map=feature_map, quantum_instance=backend)\n",
        "    svc = SVC(kernel=kernel.evaluate)\n",
        "    svc.fit(sample_train, label_train)\n",
        "    svc_score = svc.score(sample_test, label_test)\n",
        "    list_score.append(svc_score)\n",
        "\n",
        "    print(f\"Q-SVC classification test score: {svc_score}\")\n",
        "    \n",
        "print(list_score)\n",
        "print(list_prob)"
      ],
      "metadata": {
        "id": "nyYMOCwJXvi-"
      },
      "execution_count": null,
      "outputs": []
    },
    {
      "cell_type": "markdown",
      "source": [
        "##PAULI ERROR\n",
        "It is also a type of incoherent error.Here we are varying the measuring probability (p_meas) of single qubit and plotting against the quantum svm accuracy score by keeping single qubit gate probability(p_gate1) constant and the reset probability(When resetting a qubit reset to 1 instead of 0 )(p_reset)Here we considered pauli z matrix as we are considering it for z feature map"
      ],
      "metadata": {
        "id": "sXoBkWXEagGZ"
      }
    },
    {
      "cell_type": "code",
      "source": [
        "# defining noise model(pauli error)\n",
        "#vary p_measure\n",
        "list_meas=[]\n",
        "list_scorepauli=[]\n",
        "# Example error probabilities\n",
        "p_reset = 0.3\n",
        "p_gate1=0.5\n",
        "for j in np.arange(0.0,1.0,0.1):\n",
        "    p_meas =j\n",
        "    list_meas.append(p_meas)\n",
        "   # QuantumError objects\n",
        "    error_reset = pauli_error([('Z', p_reset), ('I', 1 - p_reset)])\n",
        "    error_meas = pauli_error([('Z',p_meas), ('I', 1 - p_meas)])\n",
        "    error_gate1 = pauli_error([('Z',p_gate1), ('I', 1 - p_gate1)])\n",
        "    error_gate2 = error_gate1.tensor(error_gate1)\n",
        "\n",
        "    # Add errors to noise model\n",
        "    noise_bit_flip = NoiseModel()\n",
        "    noise_bit_flip.add_all_qubit_quantum_error(error_reset, \"reset\")\n",
        "    noise_bit_flip.add_all_qubit_quantum_error(error_meas, \"measure\")\n",
        "    noise_bit_flip.add_all_qubit_quantum_error(error_gate1, [\"u1\", \"u2\", \"u3\"])\n",
        "    noise_bit_flip.add_all_qubit_quantum_error(error_gate2, [\"cx\"])\n",
        "     #Simulation of pauli error(p_meas)   \n",
        "    basis_gates = noise_bit_flip.basis_gates\n",
        "    feature_map=ZFeatureMap(feature_dimension=4, reps=1)\n",
        "    backend = QuantumInstance(qiskit.Aer.get_backend(\"qasm_simulator\"), shots=1024,basis_gates=basis_gates, noise_model=noise_bit_flip)\n",
        "\n",
        "    kernel = QuantumKernel(feature_map=feature_map, quantum_instance=backend)\n",
        "    svc = SVC(kernel=kernel.evaluate)\n",
        "    svc.fit(sample_train, label_train)\n",
        "    svc_score = svc.score(sample_test, label_test)\n",
        "    list_scorepauli.append(svc_score)\n",
        "    print(f\"Q-SVC classification test score: {svc_score}\")\n",
        "print(list_meas)\n",
        "print(list_scorepauli)\n"
      ],
      "metadata": {
        "id": "KP9I8gBLX4TB"
      },
      "execution_count": null,
      "outputs": []
    },
    {
      "cell_type": "markdown",
      "source": [
        "##PAULI ERROR\n",
        "It is also a type of incoherent error.Here we are varying the gate probability (p_gate) of single qubit and plotting against the quantum svm accuracy score by keeping single qubit gate probability(p_meas1) constant and the reset probability(When resetting a qubit reset to 1 instead of 0 )(p_reset1)"
      ],
      "metadata": {
        "id": "e8Jjsvz6chfg"
      }
    },
    {
      "cell_type": "code",
      "source": [
        "# defining noise model(pauli error)\n",
        "#vary p_gate\n",
        "list_gate=[]\n",
        "list_scorepauli2=[]\n",
        "# Example error probabilities\n",
        "p_reset1 = 0.3\n",
        "p_meas1=0.5\n",
        "for q in np.arange(0.0,1.0,0.1):\n",
        "    p_gate =q\n",
        "    list_gate.append(p_gate)\n",
        "   # QuantumError objects\n",
        "    error_reset1 = pauli_error([('Z', p_reset1), ('I', 1 - p_reset1)])\n",
        "    error_meas1 = pauli_error([('Z',p_meas1), ('I', 1 - p_meas1)])\n",
        "    error_gate2 = pauli_error([('Z',p_gate), ('I', 1 - p_gate)])\n",
        "    error_gate3 = error_gate1.tensor(error_gate2)\n",
        "\n",
        "    # Add errors to noise model\n",
        "    noise_bit_flip = NoiseModel()\n",
        "    noise_bit_flip.add_all_qubit_quantum_error(error_reset1, \"reset\")\n",
        "    noise_bit_flip.add_all_qubit_quantum_error(error_meas1, \"measure\")\n",
        "    noise_bit_flip.add_all_qubit_quantum_error(error_gate2, [\"u1\", \"u2\", \"u3\"])\n",
        "    noise_bit_flip.add_all_qubit_quantum_error(error_gate3, [\"cx\"])\n",
        "    basis_gates = noise_bit_flip.basis_gates\n",
        "    #Simulation of pauli error(P_gate)    \n",
        "    feature_map=ZFeatureMap(feature_dimension=4, reps=1)\n",
        "    backend = QuantumInstance(qiskit.Aer.get_backend(\"qasm_simulator\"), shots=1024,basis_gates=basis_gates, noise_model=noise_bit_flip)\n",
        "\n",
        "    kernel = QuantumKernel(feature_map=feature_map, quantum_instance=backend)\n",
        "    svc = SVC(kernel=kernel.evaluate)\n",
        "    svc.fit(sample_train, label_train)\n",
        "    svc_score = svc.score(sample_test, label_test)\n",
        "    list_scorepauli2.append(svc_score)\n",
        "    print(f\"Q-SVC classification test score: {svc_score}\")\n",
        "print(list_gate)\n",
        "print(list_scorepauli2)\n",
        "\n"
      ],
      "metadata": {
        "id": "HG7TzyGmYASo"
      },
      "execution_count": null,
      "outputs": []
    },
    {
      "cell_type": "markdown",
      "source": [
        "##COHERENT UNITY ERROR MODEL\n",
        "It is a cohernt error.Coherent noise may creep in our quantum computers as a result of miscalibrations. For example, a rotation of an angle  θ  actually implement a  θ+ϵ  rotation. Below we'll consider the case where the zfeature map that implements a rotation around the  u1 axis by an amount epsilon.\n",
        "Here we are varying rotation from -epsilon to +epsilon and plotting against the quantum svm accuracy score to test accuracy"
      ],
      "metadata": {
        "id": "Sk5I1pZvc_7_"
      }
    },
    {
      "cell_type": "code",
      "source": [
        "#Coherent unitary error noise model\n",
        "lst_coherent=[]\n",
        "lst_rotation=[]\n",
        "\n",
        "\n",
        "epsilon = np.pi/5 # over rotation amountr\n",
        "for m in np.arange(-epsilon,epsilon,0.1):\n",
        "    lst_rotation.append(m)\n",
        "    coherent_error_model=NoiseModel()\n",
        "    \n",
        "    over_rotation=qiskit.circuit.library.U1Gate(m).to_matrix()\n",
        "    coherent_error_model.add_all_qubit_quantum_error(coherent_unitary_error(over_rotation), 'u1')\n",
        "    basis_gates = noise_bit_flip.basis_gates\n",
        "    feature_map=ZFeatureMap(feature_dimension=4, reps=1)\n",
        "    backend = QuantumInstance(qiskit.Aer.get_backend(\"qasm_simulator\"), shots=1024,basis_gates=basis_gates, noise_model=coherent_error_model)\n",
        "\n",
        "    kernel = QuantumKernel(feature_map=feature_map, quantum_instance=backend)\n",
        "    svc = SVC(kernel=kernel.evaluate)\n",
        "    svc.fit(sample_train, label_train)\n",
        "    svc_score = svc.score(sample_test, label_test)\n",
        "    lst_coherent.append(svc_score)\n",
        "\n",
        "    print(f\"Q-SVC classification test score: {svc_score}\")\n",
        "print(lst_rotation)\n",
        "print(lst_coherent)\n"
      ],
      "metadata": {
        "id": "t5LXubfvYIjF"
      },
      "execution_count": null,
      "outputs": []
    },
    {
      "cell_type": "code",
      "source": [
        "#plotting of depolarizing,pauli error\n",
        "plt.figure( figsize=(20, 6))\n",
        "plt.plot(list_prob,list_score , label=\"DEPOLARIZING ERROR\", marker=\"*\", markersize=20)\n",
        "plt.plot(list_meas,list_scorepauli, label=\"PAULI ERROR(MEASUREMENT)\", marker=\"D\")\n",
        "plt.plot(list_gate,list_scorepauli2, label=\"PAULI ERROR (GATE)\", marker=\"v\")\n",
        "\n",
        "plt.legend(title = \"NOISE MODEL\")\n",
        "plt.title(\"NOISE EFFECT\")\n",
        "plt.xlabel(\"PROBABILITY\")\n",
        "plt.ylabel(\"SVC Accuracy Score\")\n",
        "plt.show()"
      ],
      "metadata": {
        "id": "a5wSAPKbYPe_"
      },
      "execution_count": null,
      "outputs": []
    },
    {
      "cell_type": "code",
      "source": [
        "#Coherent Error plot\n",
        "plt.figure( figsize=(20, 6))\n",
        "x3points = np.array(lst_rotation)\n",
        "y3points = np.array(lst_coherent)\n",
        "plt.plot(x3points, y3points,marker = 'v', ms = 10, mec = '#4CAF50', mfc = '#4CAF50')\n",
        "plt.title(\"COHERENT UNITY ERROR NOISE MODEL\")\n",
        "plt.xlabel(\"Overrotation\")\n",
        "plt.ylabel(\"Classification test score\")\n",
        "plt.show()\n"
      ],
      "metadata": {
        "id": "XxFdMUjJYVgE"
      },
      "execution_count": null,
      "outputs": []
    },
    {
      "cell_type": "code",
      "source": [
        "# defining noise model(pauli error)\n",
        "# Example error probabilities\n",
        "p_reset = 0.3\n",
        "p_meas = 0.1\n",
        "p_gate1 = 0.5\n",
        "\n",
        "# QuantumError objects\n",
        "error_reset = pauli_error([('Z', p_reset), ('I', 1 - p_reset)])\n",
        "error_meas = pauli_error([('Z',p_meas), ('I', 1 - p_meas)])\n",
        "error_gate1 = pauli_error([('Z',p_gate1), ('I', 1 - p_gate1)])\n",
        "error_gate2 = error_gate1.tensor(error_gate1)\n",
        "\n",
        "# Add errors to noise model\n",
        "noise_bit_flip = NoiseModel()\n",
        "noise_bit_flip.add_all_qubit_quantum_error(error_reset, \"reset\")\n",
        "noise_bit_flip.add_all_qubit_quantum_error(error_meas, \"measure\")\n",
        "noise_bit_flip.add_all_qubit_quantum_error(error_gate1, [\"u1\", \"u2\", \"u3\"])\n",
        "noise_bit_flip.add_all_qubit_quantum_error(error_gate2, [\"cx\"])\n",
        "\n",
        "print(noise_bit_flip)"
      ],
      "metadata": {
        "id": "qhKLJdZu3eXX",
        "colab": {
          "base_uri": "https://localhost:8080/"
        },
        "outputId": "baa971d7-4486-43a8-939e-55d5eeb09767"
      },
      "execution_count": null,
      "outputs": [
        {
          "output_type": "stream",
          "name": "stdout",
          "text": [
            "NoiseModel:\n",
            "  Basis gates: ['cx', 'id', 'rz', 'sx', 'u1', 'u2', 'u3']\n",
            "  Instructions with noise: ['reset', 'u1', 'measure', 'cx', 'u3', 'u2']\n",
            "  All-qubits errors: ['reset', 'measure', 'u1', 'u2', 'u3', 'cx']\n"
          ]
        }
      ]
    },
    {
      "cell_type": "code",
      "source": [
        "import qiskit\n",
        "feature_map=ZFeatureMap(feature_dimension=4, reps=1)\n",
        "basis_gates = noise_bit_flip.basis_gates\n",
        "backend = QuantumInstance(qiskit.Aer.get_backend(\"qasm_simulator\"), shots=1024, basis_gates=basis_gates, noise_model=noise_bit_flip)\n",
        "\n",
        "kernel = QuantumKernel(feature_map=feature_map, quantum_instance=backend)\n",
        "svc = SVC(kernel=kernel.evaluate)\n",
        "svc.fit(sample_train, label_train)\n",
        "svc_score = svc.score(sample_test, label_test)\n",
        "\n",
        "print(f\"Q-SVC classification test score: {svc_score}\")"
      ],
      "metadata": {
        "id": "4_wNyVpT3hKQ",
        "colab": {
          "base_uri": "https://localhost:8080/"
        },
        "outputId": "ee46333b-296c-4331-ff42-e4931d3a5297"
      },
      "execution_count": null,
      "outputs": [
        {
          "output_type": "stream",
          "name": "stdout",
          "text": [
            "Q-SVC classification test score: 0.3\n"
          ]
        }
      ]
    },
    {
      "cell_type": "code",
      "source": [
        "# import qiskit\n",
        "# feature_map=ZFeatureMap(feature_dimension=4, reps=1)\n",
        "# backend = QuantumInstance(qiskit.Aer.get_backend(\"qasm_simulator\"), shots=1024,basis_gates=basis_gates, noise_model=noise_bit_flip)\n",
        "# kernel = QuantumKernel(feature_map=feature_map, quantum_instance=backend)\n",
        "# qc=kernel.construct_circuit(sample_train[0], sample_train[0])\n",
        "# mit_pattern = [[0], [1], [2], [3]]\n",
        "# result=qiskit.execute([qc], backend=qiskit.Aer.get_backend(\"qasm_simulator\"), shots=1024).result()\n",
        "# backend = QuantumInstance(qiskit.Aer.get_backend(\"qasm_simulator\"), shots=1024,basis_gates=basis_gates, noise_model=noise_bit_flip,measurement_error_mitigation_cls=TensoredMeasFitter(result, mit_pattern))\n",
        "# kernel = QuantumKernel(feature_map=feature_map, quantum_instance=backend)\n",
        "# svc = SVC(kernel=kernel.evaluate)\n",
        "# svc.fit(sample_train, label_train)\n",
        "# svc_score = svc.score(sample_test, label_test)\n",
        "\n",
        "# print(f\"Q-SVC classification test score: {svc_score}\")"
      ],
      "metadata": {
        "id": "1h2DCha-3wFk",
        "colab": {
          "base_uri": "https://localhost:8080/",
          "height": 397
        },
        "outputId": "99416e92-a1d3-40f3-8572-a35de6084fdb"
      },
      "execution_count": null,
      "outputs": [
        {
          "output_type": "error",
          "ename": "QiskitError",
          "evalue": "ignored",
          "traceback": [
            "\u001b[0;31m---------------------------------------------------------------------------\u001b[0m",
            "\u001b[0;31mQiskitError\u001b[0m                               Traceback (most recent call last)",
            "\u001b[0;32m<ipython-input-25-bbb3283edc00>\u001b[0m in \u001b[0;36m<module>\u001b[0;34m\u001b[0m\n\u001b[1;32m      9\u001b[0m \u001b[0mkernel\u001b[0m \u001b[0;34m=\u001b[0m \u001b[0mQuantumKernel\u001b[0m\u001b[0;34m(\u001b[0m\u001b[0mfeature_map\u001b[0m\u001b[0;34m=\u001b[0m\u001b[0mfeature_map\u001b[0m\u001b[0;34m,\u001b[0m \u001b[0mquantum_instance\u001b[0m\u001b[0;34m=\u001b[0m\u001b[0mbackend\u001b[0m\u001b[0;34m)\u001b[0m\u001b[0;34m\u001b[0m\u001b[0;34m\u001b[0m\u001b[0m\n\u001b[1;32m     10\u001b[0m \u001b[0msvc\u001b[0m \u001b[0;34m=\u001b[0m \u001b[0mSVC\u001b[0m\u001b[0;34m(\u001b[0m\u001b[0mkernel\u001b[0m\u001b[0;34m=\u001b[0m\u001b[0mkernel\u001b[0m\u001b[0;34m.\u001b[0m\u001b[0mevaluate\u001b[0m\u001b[0;34m)\u001b[0m\u001b[0;34m\u001b[0m\u001b[0;34m\u001b[0m\u001b[0m\n\u001b[0;32m---> 11\u001b[0;31m \u001b[0msvc\u001b[0m\u001b[0;34m.\u001b[0m\u001b[0mfit\u001b[0m\u001b[0;34m(\u001b[0m\u001b[0msample_train\u001b[0m\u001b[0;34m,\u001b[0m \u001b[0mlabel_train\u001b[0m\u001b[0;34m)\u001b[0m\u001b[0;34m\u001b[0m\u001b[0;34m\u001b[0m\u001b[0m\n\u001b[0m\u001b[1;32m     12\u001b[0m \u001b[0msvc_score\u001b[0m \u001b[0;34m=\u001b[0m \u001b[0msvc\u001b[0m\u001b[0;34m.\u001b[0m\u001b[0mscore\u001b[0m\u001b[0;34m(\u001b[0m\u001b[0msample_test\u001b[0m\u001b[0;34m,\u001b[0m \u001b[0mlabel_test\u001b[0m\u001b[0;34m)\u001b[0m\u001b[0;34m\u001b[0m\u001b[0;34m\u001b[0m\u001b[0m\n\u001b[1;32m     13\u001b[0m \u001b[0;34m\u001b[0m\u001b[0m\n",
            "\u001b[0;32m/usr/local/lib/python3.7/dist-packages/sklearn/svm/_base.py\u001b[0m in \u001b[0;36mfit\u001b[0;34m(self, X, y, sample_weight)\u001b[0m\n\u001b[1;32m    253\u001b[0m \u001b[0;34m\u001b[0m\u001b[0m\n\u001b[1;32m    254\u001b[0m         \u001b[0mseed\u001b[0m \u001b[0;34m=\u001b[0m \u001b[0mrnd\u001b[0m\u001b[0;34m.\u001b[0m\u001b[0mrandint\u001b[0m\u001b[0;34m(\u001b[0m\u001b[0mnp\u001b[0m\u001b[0;34m.\u001b[0m\u001b[0miinfo\u001b[0m\u001b[0;34m(\u001b[0m\u001b[0;34m\"i\"\u001b[0m\u001b[0;34m)\u001b[0m\u001b[0;34m.\u001b[0m\u001b[0mmax\u001b[0m\u001b[0;34m)\u001b[0m\u001b[0;34m\u001b[0m\u001b[0;34m\u001b[0m\u001b[0m\n\u001b[0;32m--> 255\u001b[0;31m         \u001b[0mfit\u001b[0m\u001b[0;34m(\u001b[0m\u001b[0mX\u001b[0m\u001b[0;34m,\u001b[0m \u001b[0my\u001b[0m\u001b[0;34m,\u001b[0m \u001b[0msample_weight\u001b[0m\u001b[0;34m,\u001b[0m \u001b[0msolver_type\u001b[0m\u001b[0;34m,\u001b[0m \u001b[0mkernel\u001b[0m\u001b[0;34m,\u001b[0m \u001b[0mrandom_seed\u001b[0m\u001b[0;34m=\u001b[0m\u001b[0mseed\u001b[0m\u001b[0;34m)\u001b[0m\u001b[0;34m\u001b[0m\u001b[0;34m\u001b[0m\u001b[0m\n\u001b[0m\u001b[1;32m    256\u001b[0m         \u001b[0;31m# see comment on the other call to np.iinfo in this file\u001b[0m\u001b[0;34m\u001b[0m\u001b[0;34m\u001b[0m\u001b[0;34m\u001b[0m\u001b[0m\n\u001b[1;32m    257\u001b[0m \u001b[0;34m\u001b[0m\u001b[0m\n",
            "\u001b[0;32m/usr/local/lib/python3.7/dist-packages/sklearn/svm/_base.py\u001b[0m in \u001b[0;36m_dense_fit\u001b[0;34m(self, X, y, sample_weight, solver_type, kernel, random_seed)\u001b[0m\n\u001b[1;32m    295\u001b[0m             \u001b[0;31m# TODO: add keyword copy to copy on demand\u001b[0m\u001b[0;34m\u001b[0m\u001b[0;34m\u001b[0m\u001b[0;34m\u001b[0m\u001b[0m\n\u001b[1;32m    296\u001b[0m             \u001b[0mself\u001b[0m\u001b[0;34m.\u001b[0m\u001b[0m__Xfit\u001b[0m \u001b[0;34m=\u001b[0m \u001b[0mX\u001b[0m\u001b[0;34m\u001b[0m\u001b[0;34m\u001b[0m\u001b[0m\n\u001b[0;32m--> 297\u001b[0;31m             \u001b[0mX\u001b[0m \u001b[0;34m=\u001b[0m \u001b[0mself\u001b[0m\u001b[0;34m.\u001b[0m\u001b[0m_compute_kernel\u001b[0m\u001b[0;34m(\u001b[0m\u001b[0mX\u001b[0m\u001b[0;34m)\u001b[0m\u001b[0;34m\u001b[0m\u001b[0;34m\u001b[0m\u001b[0m\n\u001b[0m\u001b[1;32m    298\u001b[0m \u001b[0;34m\u001b[0m\u001b[0m\n\u001b[1;32m    299\u001b[0m             \u001b[0;32mif\u001b[0m \u001b[0mX\u001b[0m\u001b[0;34m.\u001b[0m\u001b[0mshape\u001b[0m\u001b[0;34m[\u001b[0m\u001b[0;36m0\u001b[0m\u001b[0;34m]\u001b[0m \u001b[0;34m!=\u001b[0m \u001b[0mX\u001b[0m\u001b[0;34m.\u001b[0m\u001b[0mshape\u001b[0m\u001b[0;34m[\u001b[0m\u001b[0;36m1\u001b[0m\u001b[0;34m]\u001b[0m\u001b[0;34m:\u001b[0m\u001b[0;34m\u001b[0m\u001b[0;34m\u001b[0m\u001b[0m\n",
            "\u001b[0;32m/usr/local/lib/python3.7/dist-packages/sklearn/svm/_base.py\u001b[0m in \u001b[0;36m_compute_kernel\u001b[0;34m(self, X)\u001b[0m\n\u001b[1;32m    491\u001b[0m             \u001b[0;31m# in the case of precomputed kernel given as a function, we\u001b[0m\u001b[0;34m\u001b[0m\u001b[0;34m\u001b[0m\u001b[0;34m\u001b[0m\u001b[0m\n\u001b[1;32m    492\u001b[0m             \u001b[0;31m# have to compute explicitly the kernel matrix\u001b[0m\u001b[0;34m\u001b[0m\u001b[0;34m\u001b[0m\u001b[0;34m\u001b[0m\u001b[0m\n\u001b[0;32m--> 493\u001b[0;31m             \u001b[0mkernel\u001b[0m \u001b[0;34m=\u001b[0m \u001b[0mself\u001b[0m\u001b[0;34m.\u001b[0m\u001b[0mkernel\u001b[0m\u001b[0;34m(\u001b[0m\u001b[0mX\u001b[0m\u001b[0;34m,\u001b[0m \u001b[0mself\u001b[0m\u001b[0;34m.\u001b[0m\u001b[0m__Xfit\u001b[0m\u001b[0;34m)\u001b[0m\u001b[0;34m\u001b[0m\u001b[0;34m\u001b[0m\u001b[0m\n\u001b[0m\u001b[1;32m    494\u001b[0m             \u001b[0;32mif\u001b[0m \u001b[0msp\u001b[0m\u001b[0;34m.\u001b[0m\u001b[0missparse\u001b[0m\u001b[0;34m(\u001b[0m\u001b[0mkernel\u001b[0m\u001b[0;34m)\u001b[0m\u001b[0;34m:\u001b[0m\u001b[0;34m\u001b[0m\u001b[0;34m\u001b[0m\u001b[0m\n\u001b[1;32m    495\u001b[0m                 \u001b[0mkernel\u001b[0m \u001b[0;34m=\u001b[0m \u001b[0mkernel\u001b[0m\u001b[0;34m.\u001b[0m\u001b[0mtoarray\u001b[0m\u001b[0;34m(\u001b[0m\u001b[0;34m)\u001b[0m\u001b[0;34m\u001b[0m\u001b[0;34m\u001b[0m\u001b[0m\n",
            "\u001b[0;32m/usr/local/lib/python3.7/dist-packages/qiskit_machine_learning/kernels/quantum_kernel.py\u001b[0m in \u001b[0;36mevaluate\u001b[0;34m(self, x_vec, y_vec)\u001b[0m\n\u001b[1;32m    543\u001b[0m                     )\n\u001b[1;32m    544\u001b[0m \u001b[0;34m\u001b[0m\u001b[0m\n\u001b[0;32m--> 545\u001b[0;31m                 \u001b[0mresults\u001b[0m \u001b[0;34m=\u001b[0m \u001b[0mself\u001b[0m\u001b[0;34m.\u001b[0m\u001b[0m_quantum_instance\u001b[0m\u001b[0;34m.\u001b[0m\u001b[0mexecute\u001b[0m\u001b[0;34m(\u001b[0m\u001b[0mcircuits\u001b[0m\u001b[0;34m,\u001b[0m \u001b[0mhad_transpiled\u001b[0m\u001b[0;34m=\u001b[0m\u001b[0;32mTrue\u001b[0m\u001b[0;34m)\u001b[0m\u001b[0;34m\u001b[0m\u001b[0;34m\u001b[0m\u001b[0m\n\u001b[0m\u001b[1;32m    546\u001b[0m \u001b[0;34m\u001b[0m\u001b[0m\n\u001b[1;32m    547\u001b[0m                 matrix_elements = [\n",
            "\u001b[0;32m/usr/local/lib/python3.7/dist-packages/qiskit/utils/quantum_instance.py\u001b[0m in \u001b[0;36mexecute\u001b[0;34m(self, circuits, had_transpiled)\u001b[0m\n\u001b[1;32m    592\u001b[0m                     \u001b[0mself\u001b[0m\u001b[0;34m.\u001b[0m\u001b[0m_backend_config\u001b[0m\u001b[0;34m,\u001b[0m\u001b[0;34m\u001b[0m\u001b[0;34m\u001b[0m\u001b[0m\n\u001b[1;32m    593\u001b[0m                     \u001b[0mself\u001b[0m\u001b[0;34m.\u001b[0m\u001b[0m_compile_config\u001b[0m\u001b[0;34m,\u001b[0m\u001b[0;34m\u001b[0m\u001b[0;34m\u001b[0m\u001b[0m\n\u001b[0;32m--> 594\u001b[0;31m                     \u001b[0mmit_pattern\u001b[0m\u001b[0;34m=\u001b[0m\u001b[0mmit_pattern\u001b[0m\u001b[0;34m,\u001b[0m\u001b[0;34m\u001b[0m\u001b[0;34m\u001b[0m\u001b[0m\n\u001b[0m\u001b[1;32m    595\u001b[0m                 )\n\u001b[1;32m    596\u001b[0m                 \u001b[0;32mif\u001b[0m \u001b[0muse_different_shots\u001b[0m\u001b[0;34m:\u001b[0m\u001b[0;34m\u001b[0m\u001b[0;34m\u001b[0m\u001b[0m\n",
            "\u001b[0;32m/usr/local/lib/python3.7/dist-packages/qiskit/utils/measurement_error_mitigation.py\u001b[0m in \u001b[0;36mbuild_measurement_error_mitigation_circuits\u001b[0;34m(qubit_list, fitter_cls, backend, backend_config, compile_config, mit_pattern)\u001b[0m\n\u001b[1;32m    179\u001b[0m             )\n\u001b[1;32m    180\u001b[0m         \u001b[0;32melse\u001b[0m\u001b[0;34m:\u001b[0m\u001b[0;34m\u001b[0m\u001b[0;34m\u001b[0m\u001b[0m\n\u001b[0;32m--> 181\u001b[0;31m             \u001b[0;32mraise\u001b[0m \u001b[0mQiskitError\u001b[0m\u001b[0;34m(\u001b[0m\u001b[0;34mf\"Unknown fitter {fitter_cls}\"\u001b[0m\u001b[0;34m)\u001b[0m\u001b[0;34m\u001b[0m\u001b[0;34m\u001b[0m\u001b[0m\n\u001b[0m\u001b[1;32m    182\u001b[0m \u001b[0;34m\u001b[0m\u001b[0m\n\u001b[1;32m    183\u001b[0m     \u001b[0;31m# the provided `qubit_list` would be used as the initial layout to\u001b[0m\u001b[0;34m\u001b[0m\u001b[0;34m\u001b[0m\u001b[0;34m\u001b[0m\u001b[0m\n",
            "\u001b[0;31mQiskitError\u001b[0m: 'Unknown fitter <qiskit.utils.mitigation.fitters.TensoredMeasFitter object at 0x7fb4c06d3b50>'"
          ]
        }
      ]
    },
    {
      "cell_type": "code",
      "source": [
        "!pip install qiskit-ignis"
      ],
      "metadata": {
        "colab": {
          "base_uri": "https://localhost:8080/",
          "height": 592
        },
        "id": "exhZuOWP-IcR",
        "outputId": "147aeea4-24d4-4b1b-abcc-66372a9a0b82"
      },
      "execution_count": null,
      "outputs": [
        {
          "output_type": "stream",
          "name": "stdout",
          "text": [
            "Looking in indexes: https://pypi.org/simple, https://us-python.pkg.dev/colab-wheels/public/simple/\n",
            "Collecting qiskit-ignis\n",
            "  Downloading qiskit_ignis-0.7.1-py3-none-any.whl (198 kB)\n",
            "\u001b[K     |████████████████████████████████| 198 kB 4.9 MB/s \n",
            "\u001b[?25hRequirement already satisfied: qiskit-terra>=0.15.1 in /usr/local/lib/python3.7/dist-packages (from qiskit-ignis) (0.22.0)\n",
            "Requirement already satisfied: numpy>=1.13 in /usr/local/lib/python3.7/dist-packages (from qiskit-ignis) (1.21.6)\n",
            "Requirement already satisfied: scipy!=0.19.1,>=0.19 in /usr/local/lib/python3.7/dist-packages (from qiskit-ignis) (1.7.3)\n",
            "Requirement already satisfied: setuptools>=40.1.0 in /usr/local/lib/python3.7/dist-packages (from qiskit-ignis) (57.4.0)\n",
            "Requirement already satisfied: retworkx>=0.8.0 in /usr/local/lib/python3.7/dist-packages (from qiskit-ignis) (0.12.0)\n",
            "Requirement already satisfied: python-dateutil>=2.8.0 in /usr/local/lib/python3.7/dist-packages (from qiskit-terra>=0.15.1->qiskit-ignis) (2.8.2)\n",
            "Requirement already satisfied: psutil>=5 in /usr/local/lib/python3.7/dist-packages (from qiskit-terra>=0.15.1->qiskit-ignis) (5.4.8)\n",
            "Requirement already satisfied: dill>=0.3 in /usr/local/lib/python3.7/dist-packages (from qiskit-terra>=0.15.1->qiskit-ignis) (0.3.5.1)\n",
            "Requirement already satisfied: stevedore>=3.0.0 in /usr/local/lib/python3.7/dist-packages (from qiskit-terra>=0.15.1->qiskit-ignis) (3.5.2)\n",
            "Requirement already satisfied: tweedledum<2.0,>=1.1 in /usr/local/lib/python3.7/dist-packages (from qiskit-terra>=0.15.1->qiskit-ignis) (1.1.1)\n",
            "Requirement already satisfied: importlib-metadata<5.0 in /usr/local/lib/python3.7/dist-packages (from qiskit-terra>=0.15.1->qiskit-ignis) (4.13.0)\n",
            "Requirement already satisfied: sympy>=1.3 in /usr/local/lib/python3.7/dist-packages (from qiskit-terra>=0.15.1->qiskit-ignis) (1.7.1)\n",
            "Requirement already satisfied: symengine>=0.9 in /usr/local/lib/python3.7/dist-packages (from qiskit-terra>=0.15.1->qiskit-ignis) (0.9.2)\n",
            "Requirement already satisfied: shared-memory38 in /usr/local/lib/python3.7/dist-packages (from qiskit-terra>=0.15.1->qiskit-ignis) (0.1.2)\n",
            "Requirement already satisfied: ply>=3.10 in /usr/local/lib/python3.7/dist-packages (from qiskit-terra>=0.15.1->qiskit-ignis) (3.11)\n",
            "Requirement already satisfied: typing-extensions in /usr/local/lib/python3.7/dist-packages (from qiskit-terra>=0.15.1->qiskit-ignis) (4.1.1)\n",
            "Requirement already satisfied: zipp>=0.5 in /usr/local/lib/python3.7/dist-packages (from importlib-metadata<5.0->qiskit-terra>=0.15.1->qiskit-ignis) (3.9.0)\n",
            "Requirement already satisfied: six>=1.5 in /usr/local/lib/python3.7/dist-packages (from python-dateutil>=2.8.0->qiskit-terra>=0.15.1->qiskit-ignis) (1.15.0)\n",
            "Requirement already satisfied: rustworkx==0.12.0 in /usr/local/lib/python3.7/dist-packages (from retworkx>=0.8.0->qiskit-ignis) (0.12.0)\n",
            "Requirement already satisfied: pbr!=2.1.0,>=2.0.0 in /usr/local/lib/python3.7/dist-packages (from stevedore>=3.0.0->qiskit-terra>=0.15.1->qiskit-ignis) (5.11.0)\n",
            "Requirement already satisfied: mpmath>=0.19 in /usr/local/lib/python3.7/dist-packages (from sympy>=1.3->qiskit-terra>=0.15.1->qiskit-ignis) (1.2.1)\n",
            "Installing collected packages: qiskit-ignis\n",
            "Successfully installed qiskit-ignis-0.7.1\n"
          ]
        },
        {
          "output_type": "display_data",
          "data": {
            "application/vnd.colab-display-data+json": {
              "pip_warning": {
                "packages": [
                  "qiskit"
                ]
              }
            }
          },
          "metadata": {}
        }
      ]
    },
    {
      "cell_type": "code",
      "source": [],
      "metadata": {
        "id": "GHRSlT5-Bhqr"
      },
      "execution_count": null,
      "outputs": []
    }
  ]
}